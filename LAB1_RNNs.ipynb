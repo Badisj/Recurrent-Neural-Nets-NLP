{
  "nbformat": 4,
  "nbformat_minor": 0,
  "metadata": {
    "accelerator": "TPU",
    "colab": {
      "name": "LAB1_RNNs.ipynb",
      "provenance": [],
      "collapsed_sections": [],
      "include_colab_link": true
    },
    "kernelspec": {
      "display_name": "Python 3",
      "language": "python",
      "name": "python3"
    },
    "language_info": {
      "codemirror_mode": {
        "name": "ipython",
        "version": 3
      },
      "file_extension": ".py",
      "mimetype": "text/x-python",
      "name": "python",
      "nbconvert_exporter": "python",
      "pygments_lexer": "ipython3",
      "version": "3.7.6"
    },
    "toc": {
      "base_numbering": 1,
      "nav_menu": {},
      "number_sections": true,
      "sideBar": true,
      "skip_h1_title": false,
      "title_cell": "Table of Contents",
      "title_sidebar": "Contents",
      "toc_cell": false,
      "toc_position": {},
      "toc_section_display": true,
      "toc_window_display": false
    }
  },
  "cells": [
    {
      "cell_type": "markdown",
      "metadata": {
        "id": "view-in-github",
        "colab_type": "text"
      },
      "source": [
        "<a href=\"https://colab.research.google.com/github/Badisj/Recurrent-Neural-Nets-NLP/blob/main/LAB1_RNNs.ipynb\" target=\"_parent\"><img src=\"https://colab.research.google.com/assets/colab-badge.svg\" alt=\"Open In Colab\"/></a>"
      ]
    },
    {
      "cell_type": "markdown",
      "metadata": {
        "id": "PBFqSEkKqpCN"
      },
      "source": [
        "# Lab Deep Learning/ Recurrent Neural Networks/ in keras\n",
        "\n",
        "## Using Many-to-One for movie rating predicton\n",
        "\n",
        "\n",
        "## Objective:\n",
        "We will implement two different networks to perform automatic rating (0 or 1) of a movie given the text of its review.\n",
        "We will use the ```imdb``` (internet movie database) dataset.\n",
        "\n",
        "The reviews are already available in the form of indexes that point to a word dictionary: each word is already encoded as an index in the dictionary."
      ]
    },
    {
      "cell_type": "markdown",
      "metadata": {
        "id": "QmkCSNaXLqjh"
      },
      "source": [
        "## Import packages"
      ]
    },
    {
      "cell_type": "code",
      "metadata": {
        "id": "AOqjzDwioJj9"
      },
      "source": [
        "import numpy as np\n",
        "from tensorflow.keras.datasets import imdb\n",
        "\n",
        "from tensorflow.keras import backend as K\n",
        "from tensorflow.keras import Model\n",
        "from tensorflow.keras.models import Sequential\n",
        "from tensorflow.keras.preprocessing import sequence\n",
        "from tensorflow.keras.layers import Dense, Activation, Embedding, Dropout, Input, LSTM, Reshape, Lambda, RepeatVector\n",
        "\n",
        "colab = False\n",
        "student = True"
      ],
      "execution_count": 97,
      "outputs": []
    },
    {
      "cell_type": "markdown",
      "metadata": {
        "id": "v5Yp4OQVvUtr"
      },
      "source": [
        "## Parameters of the model\n",
        "\n",
        "-  We only consider the ```top_words``` first words in the word dictionary\n",
        "- We truncate/zero-pad each sequence a length ```max_review_length```"
      ]
    },
    {
      "cell_type": "code",
      "metadata": {
        "id": "4C_Pv7rYvRkM"
      },
      "source": [
        "top_words = 5000 \n",
        "max_review_length = 100\n",
        "INDEX_FROM = 3\n",
        "embedding_vector_length = 32"
      ],
      "execution_count": 98,
      "outputs": []
    },
    {
      "cell_type": "markdown",
      "metadata": {
        "id": "ZsNcRimyLzgP"
      },
      "source": [
        "## Import IMDB data"
      ]
    },
    {
      "cell_type": "code",
      "metadata": {
        "id": "mQ4X68NnTQQv"
      },
      "source": [
        "# --- Import the IMDB data and only consider the ``top_words``` most used words\n",
        "np.load.__defaults__=(None, True, True, 'ASCII')\n",
        "(X_train, y_train), (X_test, y_test) = imdb.load_data(num_words=top_words, index_from=INDEX_FROM)\n",
        "np.load.__defaults__=(None, False, True, 'ASCII')"
      ],
      "execution_count": 99,
      "outputs": []
    },
    {
      "cell_type": "markdown",
      "metadata": {
        "id": "iSc5LmksOLyr"
      },
      "source": [
        "## Data content\n",
        "\n",
        "- ```X_train``` and ```X_test``` are numpy arrays of lists. \n",
        "  - each item in a list is the index in the word dictionary. So that a list is the sequence of index of words.\n",
        "\n",
        "- ```y_train``` and ```y_test``` are a numpy arrays of the same dimension as ```X_train``` and ```X_test``` \n",
        "  - they contains the values 0 (bad movie) or 1 (good movie)"
      ]
    },
    {
      "cell_type": "code",
      "metadata": {
        "id": "WouODCPrtiuu",
        "colab": {
          "base_uri": "https://localhost:8080/",
          "height": 398
        },
        "outputId": "b9f68a45-daf4-487e-de40-4bf3b067937d"
      },
      "source": [
        "print(\"type(X_train):\", type(X_train))\n",
        "print(\"number of training sequences: X_train.shape:\", X_train.shape)\n",
        "print(\"type(X_train[0]):\",type(X_train[0]))\n",
        "print(\"length of the first training sequence: len(X_train[0]):\",len(X_train[0]))\n",
        "print(\"length of the second training sequence: len(X_train[1]):\",len(X_train[1]))\n",
        "print(\"list of data of the first training sequence: X_train[0]:\", X_train[0] )\n",
        "len_list = [len(train) for train in X_train]\n",
        "print(\"maximum length of a training sequence:\", max(len_list))\n",
        "\n",
        "import matplotlib.pyplot as plt\n",
        "import seaborn as sns\n",
        "sns.set_style('whitegrid')\n",
        "plt.hist(len_list, 100);"
      ],
      "execution_count": 100,
      "outputs": [
        {
          "output_type": "stream",
          "name": "stdout",
          "text": [
            "type(X_train): <class 'numpy.ndarray'>\n",
            "number of training sequences: X_train.shape: (25000,)\n",
            "type(X_train[0]): <class 'list'>\n",
            "length of the first training sequence: len(X_train[0]): 218\n",
            "length of the second training sequence: len(X_train[1]): 189\n",
            "list of data of the first training sequence: X_train[0]: [1, 14, 22, 16, 43, 530, 973, 1622, 1385, 65, 458, 4468, 66, 3941, 4, 173, 36, 256, 5, 25, 100, 43, 838, 112, 50, 670, 2, 9, 35, 480, 284, 5, 150, 4, 172, 112, 167, 2, 336, 385, 39, 4, 172, 4536, 1111, 17, 546, 38, 13, 447, 4, 192, 50, 16, 6, 147, 2025, 19, 14, 22, 4, 1920, 4613, 469, 4, 22, 71, 87, 12, 16, 43, 530, 38, 76, 15, 13, 1247, 4, 22, 17, 515, 17, 12, 16, 626, 18, 2, 5, 62, 386, 12, 8, 316, 8, 106, 5, 4, 2223, 2, 16, 480, 66, 3785, 33, 4, 130, 12, 16, 38, 619, 5, 25, 124, 51, 36, 135, 48, 25, 1415, 33, 6, 22, 12, 215, 28, 77, 52, 5, 14, 407, 16, 82, 2, 8, 4, 107, 117, 2, 15, 256, 4, 2, 7, 3766, 5, 723, 36, 71, 43, 530, 476, 26, 400, 317, 46, 7, 4, 2, 1029, 13, 104, 88, 4, 381, 15, 297, 98, 32, 2071, 56, 26, 141, 6, 194, 2, 18, 4, 226, 22, 21, 134, 476, 26, 480, 5, 144, 30, 2, 18, 51, 36, 28, 224, 92, 25, 104, 4, 226, 65, 16, 38, 1334, 88, 12, 16, 283, 5, 16, 4472, 113, 103, 32, 15, 16, 2, 19, 178, 32]\n",
            "maximum length of a training sequence: 2494\n"
          ]
        },
        {
          "output_type": "display_data",
          "data": {
            "image/png": "[encoded data removed]",
            "text/plain": [
              "<Figure size 432x288 with 1 Axes>"
            ]
          },
          "metadata": {}
        }
      ]
    },
    {
      "cell_type": "markdown",
      "metadata": {
        "id": "2I-cEKUh_HM4"
      },
      "source": [
        "## Details of how the reviews are encoded"
      ]
    },
    {
      "cell_type": "code",
      "metadata": {
        "id": "XcOwiMUT_HM5",
        "colab": {
          "base_uri": "https://localhost:8080/"
        },
        "outputId": "e1546754-1d30-4096-c6ce-d97e1530dee2"
      },
      "source": [
        "word_to_id = imdb.get_word_index()\n",
        "word_to_id = {k:(v+INDEX_FROM) for k,v in word_to_id.items()}\n",
        "word_to_id[\"<PAD>\"] = 0\n",
        "word_to_id[\"<START>\"] = 1\n",
        "word_to_id[\"<UNK>\"] = 2\n",
        "\n",
        "id_to_word = {value:key for key,value in word_to_id.items()}\n",
        "print(' '.join(id_to_word[id] for id in X_train[1000] ))"
      ],
      "execution_count": 101,
      "outputs": [
        {
          "output_type": "stream",
          "name": "stdout",
          "text": [
            "<START> although i had seen <UNK> in a theater way back in <UNK> i couldn't remember anything of the plot except for vague images of kurt thomas running and fighting against a backdrop of stone walls and disappointment regarding the ending br br after reading some of the other reviews i picked up a copy of the newly released dvd to once again enter the world of <UNK> br br it turns out this is one of those films produced during the <UNK> that would go directly to video today the film stars <UNK> <UNK> kurt thomas as jonathan <UNK> <UNK> out of the blue to <UNK> the nation of <UNK> to enter and hopefully win the game a <UNK> <UNK> <UNK> by the khan who <UNK> his people by yelling what sounds like <UNK> power the goal of the mission involves the star wars defense system jonathan is trained in the martial arts by princess <UNK> who never speaks or leaves the house once trained tries to blend in with the <UNK> by wearing a bright red <UNK> with <UNK> of blue and white needless to say <UNK> finds himself running and fighting for his life along the stone streets of <UNK> on his way to a date with destiny and the game br br star kurt thomas was ill served by director robert <UNK> who it looks like was never on the set the so called script is just this side of incompetent see other reviews for the many <UNK> throughout the town of <UNK> has a few good moments but is ultimately ruined by bad editing the ending <UNK> still there's the <UNK> of a good action adventure here a hong kong version with more <UNK> action and faster pace might even be pretty good\n"
          ]
        }
      ]
    },
    {
      "cell_type": "code",
      "metadata": {
        "id": "Hfl42LGCugWB",
        "colab": {
          "base_uri": "https://localhost:8080/"
        },
        "outputId": "14efd1e4-31af-4f33-c141-77579a74f898"
      },
      "source": [
        "print(\"type(y_train):\", type(y_train))\n",
        "print(\"y_train.shape:\", y_train.shape)"
      ],
      "execution_count": 102,
      "outputs": [
        {
          "output_type": "stream",
          "name": "stdout",
          "text": [
            "type(y_train): <class 'numpy.ndarray'>\n",
            "y_train.shape: (25000,)\n"
          ]
        }
      ]
    },
    {
      "cell_type": "code",
      "metadata": {
        "id": "iVw65PNNuobX",
        "colab": {
          "base_uri": "https://localhost:8080/"
        },
        "outputId": "b8224fe6-7ac3-4d79-ef54-b6d323e6dc52"
      },
      "source": [
        "print(\"X_test.shape:\", X_test.shape)\n",
        "print(\"y_test.shape:\", y_test.shape)"
      ],
      "execution_count": 103,
      "outputs": [
        {
          "output_type": "stream",
          "name": "stdout",
          "text": [
            "X_test.shape: (25000,)\n",
            "y_test.shape: (25000,)\n"
          ]
        }
      ]
    },
    {
      "cell_type": "markdown",
      "metadata": {
        "id": "V18OA7oQNH3c"
      },
      "source": [
        "## Data processing\n",
        "\n",
        "Sequences (represented as a list of values) in ```X_train``` represent the reviews.\n",
        "They can have different length.\n",
        "To train the network we should modify them so that they all have the same length.\n",
        "We do this by:\n",
        "- truncating the ones that are too long\n",
        "- padding-with-zero them the ones that are too short.\n",
        "\n",
        "This is obtained using ```sequence.pad_sequences``` of keras."
      ]
    },
    {
      "cell_type": "code",
      "metadata": {
        "id": "JhmiHsOGoRwT",
        "colab": {
          "base_uri": "https://localhost:8080/"
        },
        "outputId": "0586493c-ee1b-4a66-f6b5-e9d9a8a145c3"
      },
      "source": [
        "# --- truncate and pad input sequences\n",
        "\n",
        "if student:\n",
        "    # --- START CODE HERE (01)\n",
        "    X_train = sequence.pad_sequences(X_train, maxlen = max_review_length, padding = 'post', truncating = 'post')\n",
        "    X_test = sequence.pad_sequences(X_test, maxlen = max_review_length, padding = 'post', truncating = 'post')\n",
        "    # --- END CODE HERE\n",
        "\n",
        "print(\"len(X_train[0]):\", len(X_train[0]))\n",
        "print(\"len(X_train[1]):\", len(X_train[1]))\n",
        "#print(\"X_train[0]:\", X_train[0])"
      ],
      "execution_count": 104,
      "outputs": [
        {
          "output_type": "stream",
          "name": "stdout",
          "text": [
            "len(X_train[0]): 100\n",
            "len(X_train[1]): 100\n"
          ]
        }
      ]
    },
    {
      "cell_type": "markdown",
      "metadata": {
        "id": "YlrDTuk5K65Q"
      },
      "source": [
        "# First model\n",
        "\n",
        "<img src=\"https://perso.telecom-paristech.fr/gpeeters/doc/Lab_DL_RNN_01.png\">\n",
        "\n",
        "In the first model, we will simply \n",
        "- learn a word embedding  (```Embedding``` layer in keras) and apply it to each item of the sequence, \n",
        "  -  in keras, embedding is not a matrix going from one-hot-encoding to embedding, but is a layer that goes from index-in-word-dictionary to embedding\n",
        "  - the embedding goes from ```top_words``` dimensions to  ```embedding_vector_length``` dimensions\n",
        "- average the embedding obtained for each word of a sequence over all words of the sequence (you should use ```K.mean``` and ```Lambda``` from the keras backend)\n",
        "- apply a fully connected (```Dense``` layer in keras) which output activation is a sigmoid (predicting the 0 or 1 rating)\n",
        "\n",
        "We will code this model \n",
        "- First, using the Sequential API of keras (https://keras.io/models/sequential/)\n",
        "- Secondly, using the Functional API of keras (https://keras.io/getting-started/functional-api-guide/)\n"
      ]
    },
    {
      "cell_type": "code",
      "metadata": {
        "id": "ufW00TGcs3Jj"
      },
      "source": [
        "K.clear_session()"
      ],
      "execution_count": 105,
      "outputs": []
    },
    {
      "cell_type": "code",
      "metadata": {
        "id": "zspaUptgtW9l",
        "colab": {
          "base_uri": "https://localhost:8080/"
        },
        "outputId": "d968d11a-5b54-4a0f-f82d-2b275e2fad70"
      },
      "source": [
        "# --- create the model\n",
        "# CODE-RNN1-2\n",
        "#Embedding(vocab_size, embedding_vector_length)\n",
        "if student:\n",
        "    # --- Using the Sequential API\n",
        "    model1 = Sequential()\n",
        "    model1.add(Embedding(input_dim = top_words, output_dim = embedding_vector_length))\n",
        "    model1.add(Lambda(lambda x: K.mean(x, axis = 1)))\n",
        "    model1.add(Dense(units = 1, activation = 'sigmoid'))\n",
        "    # --- Using the Functional API\n",
        "    inputs = Input(shape = (max_review_length,))\n",
        "    y = Embedding(input_dim = top_words, output_dim = embedding_vector_length)(inputs)\n",
        "    y = Lambda(lambda x: K.mean(x, axis = 1))(y)\n",
        "    y = Dense(units = 1, activation = 'sigmoid')(y)\n",
        "    model2 = Model(inputs = inputs, outputs = y)\n",
        "    \n",
        "print(model1.summary())\n",
        "print(model2.summary())"
      ],
      "execution_count": 106,
      "outputs": [
        {
          "output_type": "stream",
          "name": "stdout",
          "text": [
            "Model: \"sequential\"\n",
            "_________________________________________________________________\n",
            "Layer (type)                 Output Shape              Param #   \n",
            "=================================================================\n",
            "embedding (Embedding)        (None, None, 32)          160000    \n",
            "_________________________________________________________________\n",
            "lambda (Lambda)              (None, 32)                0         \n",
            "_________________________________________________________________\n",
            "dense (Dense)                (None, 1)                 33        \n",
            "=================================================================\n",
            "Total params: 160,033\n",
            "Trainable params: 160,033\n",
            "Non-trainable params: 0\n",
            "_________________________________________________________________\n",
            "None\n",
            "Model: \"model\"\n",
            "_________________________________________________________________\n",
            "Layer (type)                 Output Shape              Param #   \n",
            "=================================================================\n",
            "input_1 (InputLayer)         [(None, 100)]             0         \n",
            "_________________________________________________________________\n",
            "embedding_1 (Embedding)      (None, 100, 32)           160000    \n",
            "_________________________________________________________________\n",
            "lambda_1 (Lambda)            (None, 32)                0         \n",
            "_________________________________________________________________\n",
            "dense_1 (Dense)              (None, 1)                 33        \n",
            "=================================================================\n",
            "Total params: 160,033\n",
            "Trainable params: 160,033\n",
            "Non-trainable params: 0\n",
            "_________________________________________________________________\n",
            "None\n"
          ]
        }
      ]
    },
    {
      "cell_type": "code",
      "metadata": {
        "id": "pFXz4AS6tawQ",
        "colab": {
          "base_uri": "https://localhost:8080/"
        },
        "outputId": "992541d5-6fc2-4fb2-b683-3712b5ad93f9"
      },
      "source": [
        "# --- compile and fit the functional model\n",
        "model1.compile(optimizer = 'adam', loss = 'binary_crossentropy', metrics = 'accuracy')\n",
        "model1.fit(X_train, y_train, batch_size = 64, epochs = 5, validation_split = 0.2)\n",
        "print('Sequential Model trained \\n')\n",
        "# --- compile and fit the functional model\n",
        "model2.compile(optimizer = 'adam', loss = 'binary_crossentropy', metrics = 'accuracy')\n",
        "model2.fit(X_train, y_train, batch_size = 64, epochs = 5, validation_split = 0.2)\n",
        "print('Functional API model trained')"
      ],
      "execution_count": 107,
      "outputs": [
        {
          "output_type": "stream",
          "name": "stdout",
          "text": [
            "Epoch 1/5\n",
            "313/313 [==============================] - 2s 6ms/step - loss: 0.6619 - accuracy: 0.6816 - val_loss: 0.6105 - val_accuracy: 0.7298\n",
            "Epoch 2/5\n",
            "313/313 [==============================] - 2s 6ms/step - loss: 0.5525 - accuracy: 0.7715 - val_loss: 0.5093 - val_accuracy: 0.7826\n",
            "Epoch 3/5\n",
            "313/313 [==============================] - 2s 6ms/step - loss: 0.4631 - accuracy: 0.8116 - val_loss: 0.4515 - val_accuracy: 0.8020\n",
            "Epoch 4/5\n",
            "313/313 [==============================] - 2s 6ms/step - loss: 0.4094 - accuracy: 0.8293 - val_loss: 0.4205 - val_accuracy: 0.8170\n",
            "Epoch 5/5\n",
            "313/313 [==============================] - 2s 6ms/step - loss: 0.3756 - accuracy: 0.8424 - val_loss: 0.4039 - val_accuracy: 0.8248\n",
            "Sequential Model trained \n",
            "\n",
            "Epoch 1/5\n",
            "313/313 [==============================] - 2s 6ms/step - loss: 0.6609 - accuracy: 0.6816 - val_loss: 0.6091 - val_accuracy: 0.7412\n",
            "Epoch 2/5\n",
            "313/313 [==============================] - 2s 6ms/step - loss: 0.5507 - accuracy: 0.7718 - val_loss: 0.5073 - val_accuracy: 0.7910\n",
            "Epoch 3/5\n",
            "313/313 [==============================] - 2s 6ms/step - loss: 0.4612 - accuracy: 0.8117 - val_loss: 0.4503 - val_accuracy: 0.8044\n",
            "Epoch 4/5\n",
            "313/313 [==============================] - 2s 6ms/step - loss: 0.4082 - accuracy: 0.8296 - val_loss: 0.4201 - val_accuracy: 0.8174\n",
            "Epoch 5/5\n",
            "313/313 [==============================] - 2s 6ms/step - loss: 0.3745 - accuracy: 0.8435 - val_loss: 0.4020 - val_accuracy: 0.8258\n",
            "Functional API model trained\n"
          ]
        }
      ]
    },
    {
      "cell_type": "markdown",
      "metadata": {
        "id": "SBqyzLJRUIsC"
      },
      "source": [
        "## Results\n",
        "\n",
        "After only 3 epochs, you should obtain an accuracy around 84% for the test data."
      ]
    },
    {
      "cell_type": "code",
      "metadata": {
        "id": "nCALyP-Q_HNH",
        "colab": {
          "base_uri": "https://localhost:8080/"
        },
        "outputId": "a11c0241-2824-4c9d-95cf-56977e89ebc2"
      },
      "source": [
        "# --- Final evaluation of the sequential model\n",
        "scores = model1.evaluate(X_test, y_test, verbose = 0)\n",
        "print(\"Accuracy for sequential model: %.2f%%\" % (scores[1]*100))\n",
        "\n",
        "# --- Final evaluation of the functional API model\n",
        "scores = model2.evaluate(X_test, y_test, verbose = 0)\n",
        "print(\"Accuracy for functional API model: %.2f%%\" % (scores[1]*100))"
      ],
      "execution_count": 108,
      "outputs": [
        {
          "output_type": "stream",
          "name": "stdout",
          "text": [
            "Accuracy for sequential model: 81.19%\n",
            "Accuracy for functional API model: 81.34%\n"
          ]
        }
      ]
    },
    {
      "cell_type": "markdown",
      "metadata": {
        "id": "uRP-h4Xr_HNJ"
      },
      "source": [
        "## Using the trained embedding to find equivalence between words\n",
        "\n",
        "Since the embedding is part of the models, we can look at the trained embedding matrix $E$ and use it to get the most similar words (according to the trained matrix $E$) in the dictionary.\n",
        "Use the weights of the ```Embedding``` layer to find the most similar words to ```great```. We will use an Euclidean distance for that.\n",
        "- Retrieve the weights of the ```Embedding layer```\n",
        "- Get the position of ```great``` in the dictionary\n",
        "- Get the word-embedding of ```great```\n",
        "- Find (using Euclidean distance), the closest embedded-words to ```great```"
      ]
    },
    {
      "cell_type": "code",
      "metadata": {
        "colab": {
          "base_uri": "https://localhost:8080/"
        },
        "id": "DokIfRtHBCzl",
        "outputId": "939291e6-a5c6-456d-c3f6-60574c5348fa"
      },
      "source": [
        "top_similar = 10\n",
        "E1 = model1.get_weights()[0]\n",
        "E2 = model2.get_weights()[0]\n",
        "idx = word_to_id['great']\n",
        "emb1 = E1[idx,:]\n",
        "emb2 = E2[idx,:]\n",
        "closest1, closest2 = [], []\n",
        "dist =  [K.sum( (emb1 - E1[id, ])**2 ) for id in range(top_words)]\n",
        "idxs = list(np.argsort(dist)[:top_similar])\n",
        "[id_to_word[id] for id in idxs]"
      ],
      "execution_count": 109,
      "outputs": [
        {
          "output_type": "execute_result",
          "data": {
            "text/plain": [
              "['great',\n",
              " 'best',\n",
              " 'loved',\n",
              " 'amazing',\n",
              " 'wonderful',\n",
              " 'perfect',\n",
              " 'superb',\n",
              " 'excellent',\n",
              " 'favorite',\n",
              " 'fantastic']"
            ]
          },
          "metadata": {},
          "execution_count": 109
        }
      ]
    },
    {
      "cell_type": "markdown",
      "metadata": {
        "id": "zK9e5Eo1Ks2a"
      },
      "source": [
        "# Second model\n",
        "\n",
        "In the second model, we will replace\n",
        "- the average over the sequence of the obtained embedding\n",
        "- by a RNN layer (more precisely an ```LSTM```) in a Many-To-One configuration with $n_a=128$\n",
        "\n",
        "We will code this model \n",
        "- First, using the Sequential API of keras (https://keras.io/models/sequential/)\n",
        "- Secondly, using the Functional API of keras (https://keras.io/getting-started/functional-api-guide/)\n",
        "\n"
      ]
    },
    {
      "cell_type": "code",
      "metadata": {
        "id": "rwoXuOqqVDOy"
      },
      "source": [
        "K.clear_session()"
      ],
      "execution_count": 110,
      "outputs": []
    },
    {
      "cell_type": "code",
      "metadata": {
        "colab": {
          "base_uri": "https://localhost:8080/"
        },
        "id": "_b_f6gWVJhdh",
        "outputId": "0ace8138-ec42-4ae2-fc83-1d53a9b386a7"
      },
      "source": [
        "# --- create the model\n",
        "\n",
        "if student:\n",
        "    # --- Using the Sequential API\n",
        "    model1 = Sequential()\n",
        "    model1.add(Embedding(input_dim = top_words, output_dim = embedding_vector_length))\n",
        "    model1.add(LSTM(units = 128, activation = 'tanh', recurrent_activation = 'sigmoid', use_bias = True))\n",
        "    model1.add(Dense(units = 1, activation = 'sigmoid'))\n",
        "    \n",
        "    # --- Using the Functional API\n",
        "    inputs = Input(shape = (max_review_length,))\n",
        "    y = Embedding(input_dim = top_words, output_dim = embedding_vector_length)(inputs)\n",
        "    y = LSTM(units = 128, activation = 'tanh', recurrent_activation = 'sigmoid', use_bias = True)(y)\n",
        "    y = Dense(units = 1, activation = 'sigmoid')(y)\n",
        "    model2 = Model(inputs = inputs, outputs = y)\n",
        "   \n",
        "print(model1.summary())\n",
        "print(model2.summary())"
      ],
      "execution_count": 137,
      "outputs": [
        {
          "output_type": "stream",
          "name": "stdout",
          "text": [
            "Model: \"sequential_1\"\n",
            "_________________________________________________________________\n",
            "Layer (type)                 Output Shape              Param #   \n",
            "=================================================================\n",
            "embedding_2 (Embedding)      (None, None, 32)          160000    \n",
            "_________________________________________________________________\n",
            "lstm_2 (LSTM)                (None, 128)               82432     \n",
            "_________________________________________________________________\n",
            "dense_2 (Dense)              (None, 1)                 129       \n",
            "=================================================================\n",
            "Total params: 242,561\n",
            "Trainable params: 242,561\n",
            "Non-trainable params: 0\n",
            "_________________________________________________________________\n",
            "None\n",
            "Model: \"model_1\"\n",
            "_________________________________________________________________\n",
            "Layer (type)                 Output Shape              Param #   \n",
            "=================================================================\n",
            "input_2 (InputLayer)         [(None, 100)]             0         \n",
            "_________________________________________________________________\n",
            "embedding_3 (Embedding)      (None, 100, 32)           160000    \n",
            "_________________________________________________________________\n",
            "lstm_3 (LSTM)                (None, 128)               82432     \n",
            "_________________________________________________________________\n",
            "dense_3 (Dense)              (None, 1)                 129       \n",
            "=================================================================\n",
            "Total params: 242,561\n",
            "Trainable params: 242,561\n",
            "Non-trainable params: 0\n",
            "_________________________________________________________________\n",
            "None\n"
          ]
        }
      ]
    },
    {
      "cell_type": "code",
      "metadata": {
        "colab": {
          "base_uri": "https://localhost:8080/"
        },
        "id": "I-caGuS9JfCT",
        "outputId": "529a3f59-aaa5-4e2c-bff5-ac4c3c204ccb"
      },
      "source": [
        "# --- compile and fit the sequential API model\n",
        "model1.compile(optimizer = 'adam', loss = 'binary_crossentropy', metrics = 'accuracy')\n",
        "model1.fit(X_train, y_train, batch_size = 64, epochs = 5, validation_data = (X_test, y_test))\n",
        "print(\"Training Sequential Model Completed\")\n",
        "# --- compile and fit the functional API model\n",
        "model2.compile(optimizer = 'adam', loss = 'binary_crossentropy', metrics = 'accuracy')\n",
        "model2.fit(X_train, y_train, batch_size = 64, epochs = 5, validation_data = (X_test, y_test))\n",
        "print(\"Training Functional Model Completed\")"
      ],
      "execution_count": 138,
      "outputs": [
        {
          "output_type": "stream",
          "name": "stdout",
          "text": [
            "Epoch 1/5\n",
            "391/391 [==============================] - 101s 254ms/step - loss: 0.5285 - accuracy: 0.7212 - val_loss: 0.4544 - val_accuracy: 0.7941\n",
            "Epoch 2/5\n",
            "391/391 [==============================] - 99s 254ms/step - loss: 0.3664 - accuracy: 0.8463 - val_loss: 0.4476 - val_accuracy: 0.8140\n",
            "Epoch 3/5\n",
            "391/391 [==============================] - 98s 252ms/step - loss: 0.3234 - accuracy: 0.8686 - val_loss: 0.4361 - val_accuracy: 0.8099\n",
            "Epoch 4/5\n",
            "391/391 [==============================] - 99s 253ms/step - loss: 0.2934 - accuracy: 0.8834 - val_loss: 0.4269 - val_accuracy: 0.8067\n",
            "Epoch 5/5\n",
            "391/391 [==============================] - 99s 253ms/step - loss: 0.2585 - accuracy: 0.8963 - val_loss: 0.4866 - val_accuracy: 0.8019\n",
            "Training Sequential Model Completed\n",
            "Epoch 1/5\n",
            "391/391 [==============================] - 162s 257ms/step - loss: 0.5378 - accuracy: 0.7086 - val_loss: 0.4280 - val_accuracy: 0.8116\n",
            "Epoch 2/5\n",
            "391/391 [==============================] - 99s 254ms/step - loss: 0.3682 - accuracy: 0.8455 - val_loss: 0.4640 - val_accuracy: 0.8065\n",
            "Epoch 3/5\n",
            "391/391 [==============================] - 101s 258ms/step - loss: 0.3339 - accuracy: 0.8649 - val_loss: 0.4276 - val_accuracy: 0.8038\n",
            "Epoch 4/5\n",
            "391/391 [==============================] - 101s 258ms/step - loss: 0.2984 - accuracy: 0.8805 - val_loss: 0.4395 - val_accuracy: 0.8077\n",
            "Epoch 5/5\n",
            "391/391 [==============================] - 101s 257ms/step - loss: 0.2676 - accuracy: 0.8953 - val_loss: 0.4732 - val_accuracy: 0.8030\n",
            "Training Functional Model Completed\n"
          ]
        }
      ]
    },
    {
      "cell_type": "markdown",
      "metadata": {
        "id": "F1LN_fjMWBHJ"
      },
      "source": [
        "## Results\n",
        "\n",
        "After only 3 epochs, you should obtain an accuracy around 88% for the test data."
      ]
    },
    {
      "cell_type": "code",
      "metadata": {
        "id": "RlMEKRbzoavm",
        "colab": {
          "base_uri": "https://localhost:8080/"
        },
        "outputId": "7d031102-edf2-402f-9c7b-e0f7eba44f84"
      },
      "source": [
        "# --- Final evaluation of the model\n",
        "scores = model1.evaluate(X_test, y_test, verbose = 0)\n",
        "print(\"Accuracy of the Sequential API model: %.2f%%\" % (scores[1]*100)) \n",
        "\n",
        "scores = model2.evaluate(X_test, y_test, verbose = 0)\n",
        "print(\"Accuracy of the Functional API model: %.2f%%\" % (scores[1]*100)) "
      ],
      "execution_count": 114,
      "outputs": [
        {
          "output_type": "stream",
          "name": "stdout",
          "text": [
            "Accuracy of the Sequential API model: 78.94%\n",
            "Accuracy of the Functional API model: 79.60%\n"
          ]
        }
      ]
    }
  ]
}