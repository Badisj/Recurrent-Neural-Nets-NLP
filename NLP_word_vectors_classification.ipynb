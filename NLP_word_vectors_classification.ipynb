{
  "nbformat": 4,
  "nbformat_minor": 0,
  "metadata": {
    "kernelspec": {
      "display_name": "Python 3",
      "language": "python",
      "name": "python3"
    },
    "language_info": {
      "codemirror_mode": {
        "name": "ipython",
        "version": 3
      },
      "file_extension": ".py",
      "mimetype": "text/x-python",
      "name": "python",
      "nbconvert_exporter": "python",
      "pygments_lexer": "ipython3",
      "version": "3.7.6"
    },
    "colab": {
      "name": "NLP_word_vectors_classification.ipynb",
      "provenance": [],
      "include_colab_link": true
    },
    "accelerator": "GPU"
  },
  "cells": [
    {
      "cell_type": "markdown",
      "metadata": {
        "id": "view-in-github",
        "colab_type": "text"
      },
      "source": [
        "<a href=\"https://colab.research.google.com/github/Badisj/Recurrent-Neural-Nets-NLP/blob/main/NLP_word_vectors_classification.ipynb\" target=\"_parent\"><img src=\"https://colab.research.google.com/assets/colab-badge.svg\" alt=\"Open In Colab\"/></a>"
      ]
    },
    {
      "cell_type": "markdown",
      "metadata": {
        "id": "AWUj3ZQk813Z"
      },
      "source": [
        "## Text classification using Neural Networks\n",
        "\n",
        "The goal of this notebook is to use Neural Networks for text classification.\n",
        "\n",
        "In this notebook, we will:\n",
        "- Train a shallow model with learning embeddings\n",
        "- Download pre-trained embeddings from Glove\n",
        "- Use these pre-trained embeddings\n",
        "\n",
        "However keep in mind:\n",
        "- Deep Learning can be better on text classification that simpler ML techniques, but only on very large datasets and well designed/tuned models.\n",
        "- We won't be using the most efficient (in terms of computing) techniques, as Keras is good for prototyping but rather inefficient for training small embedding models on text.\n",
        "- The following projects can replicate similar word embedding models much more efficiently: [word2vec](https://github.com/dav/word2vec) and [gensim's word2vec](https://radimrehurek.com/gensim/models/word2vec.html)   (self-supervised learning only), [fastText](https://github.com/facebookresearch/fastText) (both supervised and self-supervised learning), [Vowpal Wabbit](https://github.com/JohnLangford/vowpal_wabbit/wiki) (supervised learning).\n",
        "- Plain shallow sparse TF-IDF bigrams features without any embedding and Logistic Regression or Multinomial Naive Bayes is often competitive in small to medium datasets."
      ]
    },
    {
      "cell_type": "markdown",
      "metadata": {
        "id": "ikcmipsO813b"
      },
      "source": [
        "## The BBC topic classification dataset\n",
        "\n",
        "The BBC provides some benchmark topic classification datasets in English at: http://mlg.ucd.ie/datasets/bbc.html.\n",
        "\n",
        "The raw text (encoded with the latin-1 character encoding) of the news can be downloaded as a ZIP archive:"
      ]
    },
    {
      "cell_type": "code",
      "metadata": {
        "colab": {
          "base_uri": "https://localhost:8080/"
        },
        "id": "pH1Bo59r813b",
        "outputId": "4e7a4879-87d8-4c31-d094-37917eb0744b"
      },
      "source": [
        "import os\n",
        "import os.path as op\n",
        "import zipfile\n",
        "try:\n",
        "    from urllib.request import urlretrieve\n",
        "except ImportError:\n",
        "    from urllib import urlretrieve\n",
        "\n",
        "\n",
        "BBC_DATASET_URL = \"http://mlg.ucd.ie/files/datasets/bbc-fulltext.zip\"\n",
        "zip_filename = BBC_DATASET_URL.rsplit('/', 1)[1]\n",
        "BBC_DATASET_FOLDER = 'bbc'\n",
        "if not op.exists(zip_filename):\n",
        "    print(\"Downloading %s to %s...\" % (BBC_DATASET_URL, zip_filename))\n",
        "    urlretrieve(BBC_DATASET_URL, zip_filename)\n",
        "\n",
        "if not op.exists(BBC_DATASET_FOLDER):\n",
        "    with zipfile.ZipFile(zip_filename, 'r') as f:\n",
        "        print(\"Extracting contents of %s...\" % zip_filename)\n",
        "        f.extractall('.')"
      ],
      "execution_count": 1,
      "outputs": [
        {
          "output_type": "stream",
          "name": "stdout",
          "text": [
            "Downloading http://mlg.ucd.ie/files/datasets/bbc-fulltext.zip to bbc-fulltext.zip...\n",
            "Extracting contents of bbc-fulltext.zip...\n"
          ]
        }
      ]
    },
    {
      "cell_type": "markdown",
      "metadata": {
        "id": "M-qsGSFg813c"
      },
      "source": [
        "Each of the five folders contains text files from one of the five topics:"
      ]
    },
    {
      "cell_type": "code",
      "metadata": {
        "colab": {
          "base_uri": "https://localhost:8080/"
        },
        "id": "-8aA3PSf813c",
        "outputId": "36cb5383-fc10-42d1-fe5b-ffc86188ab34"
      },
      "source": [
        "target_names = sorted(folder for folder in os.listdir(BBC_DATASET_FOLDER)\n",
        "                      if op.isdir(op.join(BBC_DATASET_FOLDER, folder)))\n",
        "target_names"
      ],
      "execution_count": 2,
      "outputs": [
        {
          "output_type": "execute_result",
          "data": {
            "text/plain": [
              "['business', 'entertainment', 'politics', 'sport', 'tech']"
            ]
          },
          "metadata": {},
          "execution_count": 2
        }
      ]
    },
    {
      "cell_type": "markdown",
      "metadata": {
        "id": "8b2S3O2_813c"
      },
      "source": [
        "Let's randomly partition the text files in a training and test set while recording the target category of each file as an integer:"
      ]
    },
    {
      "cell_type": "code",
      "metadata": {
        "id": "QnETkTNZ813c"
      },
      "source": [
        "import numpy as np\n",
        "from sklearn.model_selection import train_test_split\n",
        "\n",
        "target = []\n",
        "filenames = []\n",
        "for target_id, target_name in enumerate(target_names):\n",
        "    class_path = op.join(BBC_DATASET_FOLDER, target_name)\n",
        "    for filename in sorted(os.listdir(class_path)):\n",
        "        filenames.append(op.join(class_path, filename))\n",
        "        target.append(target_id)\n",
        "\n",
        "target = np.asarray(target, dtype=np.int32)\n",
        "target_train, target_test, filenames_train, filenames_test = train_test_split(\n",
        "    target, filenames, test_size=200, random_state=0)"
      ],
      "execution_count": 3,
      "outputs": []
    },
    {
      "cell_type": "code",
      "metadata": {
        "colab": {
          "base_uri": "https://localhost:8080/"
        },
        "id": "fqH0L6_6813d",
        "outputId": "57eaaaf2-3b22-41ed-829d-d595cdc125e7"
      },
      "source": [
        "len(target_train), len(filenames_train)"
      ],
      "execution_count": 4,
      "outputs": [
        {
          "output_type": "execute_result",
          "data": {
            "text/plain": [
              "(2025, 2025)"
            ]
          },
          "metadata": {},
          "execution_count": 4
        }
      ]
    },
    {
      "cell_type": "code",
      "metadata": {
        "colab": {
          "base_uri": "https://localhost:8080/"
        },
        "id": "vCiHnzdj813d",
        "outputId": "4847b739-5598-4291-86ea-ce8d34e162fa"
      },
      "source": [
        "len(target_test), len(filenames_test)"
      ],
      "execution_count": 5,
      "outputs": [
        {
          "output_type": "execute_result",
          "data": {
            "text/plain": [
              "(200, 200)"
            ]
          },
          "metadata": {},
          "execution_count": 5
        }
      ]
    },
    {
      "cell_type": "markdown",
      "metadata": {
        "id": "17OK_tZ0813d"
      },
      "source": [
        "Let's check that text of some document have been loaded correctly:"
      ]
    },
    {
      "cell_type": "code",
      "metadata": {
        "colab": {
          "base_uri": "https://localhost:8080/"
        },
        "id": "du70R7sO813d",
        "outputId": "8c440036-bc29-4e1a-a574-092f17711c7c"
      },
      "source": [
        "idx = 0\n",
        "\n",
        "with open(filenames_train[idx], 'rb') as f:\n",
        "    print(\"class:\", target_names[target_train[idx]])\n",
        "    print()\n",
        "    print(f.read().decode('latin-1')[:500] + '...')"
      ],
      "execution_count": 7,
      "outputs": [
        {
          "output_type": "stream",
          "name": "stdout",
          "text": [
            "class: business\n",
            "\n",
            "Watchdog probes Vivendi bond sale\n",
            "\n",
            "French stock market regulator AMF has filed complaints against media giant Vivendi Universal, its boss and another top executive.\n",
            "\n",
            "It believes the prospectus for a bond issue was unclear and that executives may have had privileged information. AMF has begun proceedings against Vivendi, its chief executive Jean-Rene Fourtou and chief operating officer Jean-Bernard Levy. Vivendi advisor Deutsche Bank was also the subject of a complaint filing. Deutsche Bank, whic...\n"
          ]
        }
      ]
    },
    {
      "cell_type": "code",
      "metadata": {
        "colab": {
          "base_uri": "https://localhost:8080/"
        },
        "id": "3W-iuDw1813d",
        "outputId": "fb9a8450-3922-4d01-c9f3-fdb0b6d09c14"
      },
      "source": [
        "size_in_bytes = sum([len(open(fn, 'rb').read()) for fn in filenames_train])\n",
        "print(\"Training set size: %0.3f MB\" % (size_in_bytes / 1e6))"
      ],
      "execution_count": 8,
      "outputs": [
        {
          "output_type": "stream",
          "name": "stdout",
          "text": [
            "Training set size: 4.582 MB\n"
          ]
        }
      ]
    },
    {
      "cell_type": "markdown",
      "metadata": {
        "id": "B6dyv_DK813e"
      },
      "source": [
        "This dataset is small so we can preload it all in memory once and for all to simplify the notebook."
      ]
    },
    {
      "cell_type": "code",
      "metadata": {
        "id": "KlumoSma813e"
      },
      "source": [
        "texts_train = [open(fn, 'rb').read().decode('latin-1') for fn in filenames_train]\n",
        "texts_test = [open(fn, 'rb').read().decode('latin-1') for fn in filenames_test]"
      ],
      "execution_count": 9,
      "outputs": []
    },
    {
      "cell_type": "markdown",
      "metadata": {
        "id": "XFvGgvjb813e"
      },
      "source": [
        "## A first baseline model\n",
        "\n",
        "For simple topic classification problems, one should always try a simple method first. In this case a good baseline is extracting TF-IDF normalized bag of bi-grams features and then use a simple linear classifier such as logistic regression.\n",
        "\n",
        "It's a very efficient method and should give us a strong baseline to compare our deep learning method against."
      ]
    },
    {
      "cell_type": "code",
      "metadata": {
        "id": "Cv1Zfj9o813e"
      },
      "source": [
        "from sklearn.feature_extraction.text import TfidfVectorizer\n",
        "from sklearn.linear_model import LogisticRegression\n",
        "from sklearn.pipeline import make_pipeline\n",
        "\n",
        "\n",
        "text_classifier = make_pipeline(\n",
        "    TfidfVectorizer(min_df=3, max_df=0.8, ngram_range=(1, 2)),\n",
        "    LogisticRegression(multi_class=\"multinomial\", solver=\"lbfgs\"),\n",
        ")"
      ],
      "execution_count": 11,
      "outputs": []
    },
    {
      "cell_type": "code",
      "metadata": {
        "colab": {
          "base_uri": "https://localhost:8080/"
        },
        "id": "l8D0qLVi813f",
        "outputId": "59ba74c9-5c0c-4264-b254-cd7c63d2e72c"
      },
      "source": [
        "%time _ = text_classifier.fit(texts_train, target_train)"
      ],
      "execution_count": 12,
      "outputs": [
        {
          "output_type": "stream",
          "name": "stdout",
          "text": [
            "CPU times: user 6.43 s, sys: 4.92 s, total: 11.4 s\n",
            "Wall time: 7.2 s\n"
          ]
        }
      ]
    },
    {
      "cell_type": "code",
      "metadata": {
        "colab": {
          "base_uri": "https://localhost:8080/"
        },
        "id": "3If7tNdO813f",
        "outputId": "f6971cb9-2985-4744-8d8a-cf87a3b65b6c"
      },
      "source": [
        "text_classifier.score(texts_test, target_test)"
      ],
      "execution_count": 13,
      "outputs": [
        {
          "output_type": "execute_result",
          "data": {
            "text/plain": [
              "0.97"
            ]
          },
          "metadata": {},
          "execution_count": 13
        }
      ]
    },
    {
      "cell_type": "markdown",
      "metadata": {
        "id": "0DyuAG-N813f"
      },
      "source": [
        "6 classification errors on 200 test documents for a model fit in less than 10s. It's quite unlikely that we can significantly beat that baseline with a more complex deep learning based model. However let's try to reach a comparable level of accuracy with Embeddings-based models just for teaching purpose."
      ]
    },
    {
      "cell_type": "markdown",
      "metadata": {
        "id": "oJJMeGLK813f"
      },
      "source": [
        "### Preprocessing text for the (supervised) CBOW model\n",
        "\n",
        "We will implement a simple classification model in Keras. Raw text requires (sometimes a lot of) preprocessing.\n",
        "\n",
        "The following cells uses Keras to preprocess text:\n",
        "- using a tokenizer. You may use different tokenizers (from scikit-learn, NLTK, custom Python function etc.). This converts the texts into sequences of indices representing the `20000` most frequent words\n",
        "- sequences have different lengths, so we pad them (add 0s at the end until the sequence is of length `1000`)\n",
        "- we convert the output classes as 1-hot encodings"
      ]
    },
    {
      "cell_type": "code",
      "metadata": {
        "colab": {
          "base_uri": "https://localhost:8080/"
        },
        "id": "b3Hk7Ldk813g",
        "outputId": "76c42878-5b00-4c1c-c3c0-b0af93bcaa83"
      },
      "source": [
        "from tensorflow.keras.preprocessing.text import Tokenizer\n",
        "\n",
        "MAX_NB_WORDS = 20000\n",
        "\n",
        "# vectorize the text samples into a 2D integer tensor\n",
        "tokenizer = Tokenizer(num_words = MAX_NB_WORDS, char_level = False)\n",
        "tokenizer.fit_on_texts(texts_train)\n",
        "sequences = tokenizer.texts_to_sequences(texts_train)\n",
        "sequences_test = tokenizer.texts_to_sequences(texts_test)\n",
        "\n",
        "word_index = tokenizer.word_index\n",
        "print('Found %s unique tokens.' % len(word_index))"
      ],
      "execution_count": 14,
      "outputs": [
        {
          "output_type": "stream",
          "name": "stdout",
          "text": [
            "Found 30996 unique tokens.\n"
          ]
        }
      ]
    },
    {
      "cell_type": "markdown",
      "metadata": {
        "id": "CO3WS_9N813g"
      },
      "source": [
        "Tokenized sequences are converted to list of token ids (with an integer code):"
      ]
    },
    {
      "cell_type": "code",
      "metadata": {
        "scrolled": true,
        "colab": {
          "base_uri": "https://localhost:8080/"
        },
        "id": "AqxA6wF3813g",
        "outputId": "9a2a64eb-5d73-4f42-88e9-8cfa12ac4b57"
      },
      "source": [
        "sequences[0][:10]"
      ],
      "execution_count": 20,
      "outputs": [
        {
          "output_type": "execute_result",
          "data": {
            "text/plain": [
              "[1857, 9454, 5251, 1973, 452, 543, 577, 121, 3073, 9455]"
            ]
          },
          "metadata": {},
          "execution_count": 20
        }
      ]
    },
    {
      "cell_type": "markdown",
      "metadata": {
        "id": "CU45trz2813h"
      },
      "source": [
        "The tokenizer object stores a mapping (vocabulary) from word strings to token ids that can be inverted to reconstruct the original message (without formatting):"
      ]
    },
    {
      "cell_type": "code",
      "metadata": {
        "colab": {
          "base_uri": "https://localhost:8080/"
        },
        "id": "4T9xXrpd813h",
        "outputId": "9ee8c2ab-f4eb-4593-d128-48cb14493a67"
      },
      "source": [
        "type(tokenizer.word_index), len(tokenizer.word_index)"
      ],
      "execution_count": 21,
      "outputs": [
        {
          "output_type": "execute_result",
          "data": {
            "text/plain": [
              "(dict, 30996)"
            ]
          },
          "metadata": {},
          "execution_count": 21
        }
      ]
    },
    {
      "cell_type": "code",
      "metadata": {
        "id": "h8aqQYjy813h"
      },
      "source": [
        "index_to_word = dict((i, w) for w, i in tokenizer.word_index.items())"
      ],
      "execution_count": 23,
      "outputs": []
    },
    {
      "cell_type": "code",
      "metadata": {
        "colab": {
          "base_uri": "https://localhost:8080/",
          "height": 174
        },
        "id": "ruUHlHHp813h",
        "outputId": "8b147a7a-66b0-4e91-9c06-ca111cf47b67"
      },
      "source": [
        "\" \".join([index_to_word[i] for i in sequences[0]])"
      ],
      "execution_count": 24,
      "outputs": [
        {
          "output_type": "execute_result",
          "data": {
            "application/vnd.google.colaboratory.intrinsic+json": {
              "type": "string"
            },
            "text/plain": [
              "\"watchdog probes vivendi bond sale french stock market regulator amf has filed complaints against media giant vivendi universal its boss and another top executive it believes the prospectus for a bond issue was unclear and that executives may have had privileged information amf has begun proceedings against vivendi its chief executive jean rene fourtou and chief operating officer jean bernard levy vivendi advisor deutsche bank was also the subject of a complaint filing deutsche bank which was responsible for selling the convertible bonds to investors could face penalties if the complaint is upheld vivendi has said it believes there is no legal basis for the complaints the watchdog is said to believe the executive pair were party to privileged information surrounding the issue of the bonds both men bought some of the bonds the associated press news agency reported amf is investigating claims that the duo were aware of an interest in vivendi's us assets from investor marvin davis at the time of the bond sale vivendi however has said that the information was public knowledge as mr davis' offer for the us assets had already been rejected by vivendi's board amf is also looking into whether the executives knew that vivendi was considering exercising its right to buy british telecom's shares in cegetel vivendi has rejected the charge saying the decision to buy the cegetel shares was no more than a possibility of which the public was perfectly aware at the time of the bond issue back in december vivendi and its former chief executive jean marie messier were each fined 1m euros 1 3m â£690 000 by amf the fines came after a 15 month probe into allegations that the media giant misled investors after a costly acquisition programme went wrong\""
            ]
          },
          "metadata": {},
          "execution_count": 24
        }
      ]
    },
    {
      "cell_type": "markdown",
      "metadata": {
        "id": "V4hzq2mf813h"
      },
      "source": [
        "Let's have a closer look at the tokenized sequences:"
      ]
    },
    {
      "cell_type": "code",
      "metadata": {
        "colab": {
          "base_uri": "https://localhost:8080/"
        },
        "id": "Dlk6FsRs813i",
        "outputId": "25d20b2d-b1bc-448c-8d48-ce5f2de67d27"
      },
      "source": [
        "seq_lens = [len(s) for s in sequences]\n",
        "print(\"average length: %0.1f\" % np.mean(seq_lens))\n",
        "print(\"max length: %d\" % max(seq_lens))"
      ],
      "execution_count": 25,
      "outputs": [
        {
          "output_type": "stream",
          "name": "stdout",
          "text": [
            "average length: 382.6\n",
            "max length: 4355\n"
          ]
        }
      ]
    },
    {
      "cell_type": "code",
      "metadata": {
        "colab": {
          "base_uri": "https://localhost:8080/",
          "height": 265
        },
        "id": "_OSztWZC813i",
        "outputId": "4298df95-4a3a-404e-c90f-8c3a4076bb58"
      },
      "source": [
        "%matplotlib inline\n",
        "import matplotlib.pyplot as plt\n",
        "\n",
        "plt.hist(seq_lens, bins=50);"
      ],
      "execution_count": 26,
      "outputs": [
        {
          "output_type": "display_data",
          "data": {
            "image/png": "[encoded data removed]",
            "text/plain": [
              "<Figure size 432x288 with 1 Axes>"
            ]
          },
          "metadata": {
            "needs_background": "light"
          }
        }
      ]
    },
    {
      "cell_type": "markdown",
      "metadata": {
        "id": "NCqa-_0V813i"
      },
      "source": [
        "Let's zoom on the distribution of regular sized posts. The vast majority of the posts have less than 1000 symbols:"
      ]
    },
    {
      "cell_type": "code",
      "metadata": {
        "colab": {
          "base_uri": "https://localhost:8080/",
          "height": 265
        },
        "id": "KLgwN6df813i",
        "outputId": "df4b144a-9c7c-4343-bd4a-bc12b79dbbec"
      },
      "source": [
        "plt.hist([l for l in seq_lens if l < 3000], bins=50);"
      ],
      "execution_count": 27,
      "outputs": [
        {
          "output_type": "display_data",
          "data": {
            "image/png": "[encoded data removed]",
            "text/plain": [
              "<Figure size 432x288 with 1 Axes>"
            ]
          },
          "metadata": {
            "needs_background": "light"
          }
        }
      ]
    },
    {
      "cell_type": "markdown",
      "metadata": {
        "id": "9fuEY_Nf813j"
      },
      "source": [
        "Let's truncate and pad all the sequences to 1000 symbols to build the training set:"
      ]
    },
    {
      "cell_type": "code",
      "metadata": {
        "colab": {
          "base_uri": "https://localhost:8080/"
        },
        "id": "NBVT4Tfz813j",
        "outputId": "157e7e24-b1a8-4247-cc23-bd4f1c355a76"
      },
      "source": [
        "from tensorflow.keras.preprocessing.sequence import pad_sequences\n",
        "\n",
        "\n",
        "MAX_SEQUENCE_LENGTH = 1000\n",
        "\n",
        "# pad sequences with 0s\n",
        "x_train = pad_sequences(sequences, maxlen=MAX_SEQUENCE_LENGTH)\n",
        "x_test = pad_sequences(sequences_test, maxlen=MAX_SEQUENCE_LENGTH)\n",
        "print('Shape of data tensor:', x_train.shape)\n",
        "print('Shape of data test tensor:', x_test.shape)"
      ],
      "execution_count": 28,
      "outputs": [
        {
          "output_type": "stream",
          "name": "stdout",
          "text": [
            "Shape of data tensor: (2025, 1000)\n",
            "Shape of data test tensor: (200, 1000)\n"
          ]
        }
      ]
    },
    {
      "cell_type": "code",
      "metadata": {
        "colab": {
          "base_uri": "https://localhost:8080/"
        },
        "id": "c1bKKbad813j",
        "outputId": "14e428aa-7444-4dd0-f3c7-ca53866761ad"
      },
      "source": [
        "from tensorflow.keras.utils import to_categorical\n",
        "\n",
        "y_train = to_categorical(target_train)\n",
        "print('Shape of label tensor:', y_train.shape)"
      ],
      "execution_count": 29,
      "outputs": [
        {
          "output_type": "stream",
          "name": "stdout",
          "text": [
            "Shape of label tensor: (2025, 5)\n"
          ]
        }
      ]
    },
    {
      "cell_type": "markdown",
      "metadata": {
        "id": "jZb9JqZW813k"
      },
      "source": [
        "### A simple supervised CBOW model in Keras\n",
        "\n",
        "The following computes a very simple model, as described in [fastText](https://github.com/facebookresearch/fastText):\n",
        "\n",
        "<img src=\"images/fasttext.svg\" style=\"width: 600px;\" />\n",
        "\n",
        "- Build an embedding layer mapping each word to a vector representation\n",
        "- Compute the vector representation of all words in each sequence and average them\n",
        "- Add a dense layer to output 20 classes (+ softmax)"
      ]
    },
    {
      "cell_type": "code",
      "metadata": {
        "id": "BqdY8q6a813k"
      },
      "source": [
        "from tensorflow.keras.layers import Dense, Input, Flatten\n",
        "from tensorflow.keras.layers import GlobalAveragePooling1D, Embedding\n",
        "from tensorflow.keras.models import Model\n",
        "from tensorflow.keras import optimizers\n",
        "\n",
        "EMBEDDING_DIM = 50\n",
        "N_CLASSES = len(target_names)\n",
        "\n",
        "# input: a sequence of MAX_SEQUENCE_LENGTH integers\n",
        "sequence_input = Input(shape=(MAX_SEQUENCE_LENGTH,), dtype='int32')\n",
        "\n",
        "embedding_layer = Embedding(MAX_NB_WORDS, EMBEDDING_DIM,\n",
        "                            input_length=MAX_SEQUENCE_LENGTH,\n",
        "                            trainable=True)\n",
        "embedded_sequences = embedding_layer(sequence_input)\n",
        "\n",
        "average = GlobalAveragePooling1D()(embedded_sequences)\n",
        "predictions = Dense(N_CLASSES, activation='softmax')(average)\n",
        "\n",
        "model = Model(sequence_input, predictions)\n",
        "model.compile(loss='categorical_crossentropy',\n",
        "              optimizer=optimizers.Adam(learning_rate = 0.01), metrics=['acc'])"
      ],
      "execution_count": 31,
      "outputs": []
    },
    {
      "cell_type": "code",
      "metadata": {
        "colab": {
          "base_uri": "https://localhost:8080/"
        },
        "id": "8B6VW40e813k",
        "outputId": "601f93a0-3201-40de-b275-68d75dbd54d4"
      },
      "source": [
        "model.fit(x_train, y_train, validation_split=0.1,\n",
        "          epochs=10, batch_size=32)"
      ],
      "execution_count": 32,
      "outputs": [
        {
          "output_type": "stream",
          "name": "stdout",
          "text": [
            "Epoch 1/10\n",
            "57/57 [==============================] - 3s 12ms/step - loss: 1.3975 - acc: 0.4802 - val_loss: 1.0427 - val_acc: 0.7438\n",
            "Epoch 2/10\n",
            "57/57 [==============================] - 0s 8ms/step - loss: 0.6999 - acc: 0.8578 - val_loss: 0.4573 - val_acc: 0.9507\n",
            "Epoch 3/10\n",
            "57/57 [==============================] - 0s 8ms/step - loss: 0.2799 - acc: 0.9764 - val_loss: 0.2337 - val_acc: 0.9803\n",
            "Epoch 4/10\n",
            "57/57 [==============================] - 0s 7ms/step - loss: 0.1308 - acc: 0.9907 - val_loss: 0.1509 - val_acc: 0.9754\n",
            "Epoch 5/10\n",
            "57/57 [==============================] - 0s 7ms/step - loss: 0.0743 - acc: 0.9956 - val_loss: 0.1186 - val_acc: 0.9754\n",
            "Epoch 6/10\n",
            "57/57 [==============================] - 0s 7ms/step - loss: 0.0447 - acc: 0.9989 - val_loss: 0.0984 - val_acc: 0.9803\n",
            "Epoch 7/10\n",
            "57/57 [==============================] - 0s 7ms/step - loss: 0.0294 - acc: 1.0000 - val_loss: 0.0915 - val_acc: 0.9754\n",
            "Epoch 8/10\n",
            "57/57 [==============================] - 0s 8ms/step - loss: 0.0206 - acc: 1.0000 - val_loss: 0.0873 - val_acc: 0.9754\n",
            "Epoch 9/10\n",
            "57/57 [==============================] - 0s 8ms/step - loss: 0.0153 - acc: 1.0000 - val_loss: 0.0796 - val_acc: 0.9803\n",
            "Epoch 10/10\n",
            "57/57 [==============================] - 0s 7ms/step - loss: 0.0119 - acc: 1.0000 - val_loss: 0.0785 - val_acc: 0.9803\n"
          ]
        },
        {
          "output_type": "execute_result",
          "data": {
            "text/plain": [
              "<keras.callbacks.History at 0x7fb700505c50>"
            ]
          },
          "metadata": {},
          "execution_count": 32
        }
      ]
    },
    {
      "cell_type": "markdown",
      "metadata": {
        "id": "q6jRCYpz813k"
      },
      "source": [
        "**Exercices**\n",
        "\n",
        "- Compute model accuracy on test set"
      ]
    },
    {
      "cell_type": "code",
      "metadata": {
        "colab": {
          "base_uri": "https://localhost:8080/"
        },
        "id": "ikgDqDdi813k",
        "outputId": "95527635-8a06-492b-af17-d8168b28edf4"
      },
      "source": [
        "model.evaluate(x_test, to_categorical(target_test))"
      ],
      "execution_count": 35,
      "outputs": [
        {
          "output_type": "stream",
          "name": "stdout",
          "text": [
            "7/7 [==============================] - 0s 3ms/step - loss: 0.1020 - acc: 0.9650\n"
          ]
        },
        {
          "output_type": "execute_result",
          "data": {
            "text/plain": [
              "[0.10204686969518661, 0.9649999737739563]"
            ]
          },
          "metadata": {},
          "execution_count": 35
        }
      ]
    },
    {
      "cell_type": "markdown",
      "metadata": {
        "id": "XjEvVa4D813l"
      },
      "source": [
        "### Building more complex models\n",
        "\n",
        "**Exercise**\n",
        "- From the previous template, build more complex models using:\n",
        "  - **1d convolution and 1d maxpooling**. Note that you will still need a GloabalAveragePooling or Flatten after the convolutions as the final `Dense` layer expects a fixed size input;\n",
        "  - **Recurrent neural networks through LSTM** (you will need to **reduce sequence length before using the LSTM layer**).\n",
        "\n",
        "  \n",
        "<img src=\"images/unrolled_rnn_one_output_2.svg\" style=\"width: 600px;\" />\n",
        "\n",
        "**Bonus**\n",
        "- You may try different architectures with:\n",
        "  - more intermediate layers, combination of dense, conv, recurrent\n",
        "  - different recurrent (GRU, RNN)\n",
        "  - bidirectional LSTMs\n",
        "\n",
        "**Note**: The goal is to build working models rather than getting better test accuracy as this task is already very well solved by the simple model.  Build your model, and verify that they converge to OK results."
      ]
    },
    {
      "cell_type": "code",
      "metadata": {
        "id": "9jrcjkVc813l"
      },
      "source": [
        "from tensorflow.keras.layers import Embedding, Dense, Input, Flatten\n",
        "from tensorflow.keras.layers import Conv1D, LSTM, GRU\n",
        "from tensorflow.keras.layers import MaxPooling1D, GlobalAveragePooling1D \n",
        "from tensorflow.keras.models import Model\n",
        "\n",
        "EMBEDDING_DIM = 50\n",
        "N_CLASSES = len(target_names)\n",
        "\n",
        "# input: a sequence of MAX_SEQUENCE_LENGTH integers\n",
        "sequence_input = Input(shape=(MAX_SEQUENCE_LENGTH,), dtype='int32')\n",
        "\n",
        "embedding_layer = Embedding(MAX_NB_WORDS, EMBEDDING_DIM,\n",
        "                            input_length=MAX_SEQUENCE_LENGTH,\n",
        "                            trainable=True)\n",
        "embedded_sequences = embedding_layer(sequence_input)\n",
        "\n",
        "# TODO\n",
        "\n",
        "model = Model(sequence_input, predictions)\n",
        "model.compile(loss='categorical_crossentropy',\n",
        "              optimizer='adam', metrics=['acc'])"
      ],
      "execution_count": null,
      "outputs": []
    },
    {
      "cell_type": "code",
      "metadata": {
        "id": "xjO27KtC813l"
      },
      "source": [
        "# %load solutions/conv1d.py"
      ],
      "execution_count": null,
      "outputs": []
    },
    {
      "cell_type": "code",
      "metadata": {
        "id": "QmQsJcwF813l"
      },
      "source": [
        "# %load solutions/lstm.py"
      ],
      "execution_count": null,
      "outputs": []
    },
    {
      "cell_type": "code",
      "metadata": {
        "id": "7rkbqKSM813l"
      },
      "source": [
        "model.fit(x_train, y_train, validation_split=0.1,\n",
        "          epochs=5, batch_size=32)\n",
        "\n",
        "output_test = model(x_test)\n",
        "test_casses = np.argmax(output_test, axis=-1)\n",
        "print(\"Test accuracy:\", np.mean(test_casses == target_test))"
      ],
      "execution_count": null,
      "outputs": []
    },
    {
      "cell_type": "markdown",
      "metadata": {
        "id": "5ZxJmm8B813m"
      },
      "source": [
        "### Loading pre-trained embeddings\n",
        "\n",
        "The file `glove100K.100d.txt` is an extract of [Glove](http://nlp.stanford.edu/projects/glove/) Vectors, that were trained on english Wikipedia 2014 + Gigaword 5 (6B tokens).\n",
        "\n",
        "We extracted the `100 000` most frequent words. They have a dimension of `100`"
      ]
    },
    {
      "cell_type": "code",
      "metadata": {
        "id": "2UD27m_G813m"
      },
      "source": [
        "embeddings_index = {}\n",
        "embeddings_vectors = []\n",
        "with open('glove100K.100d.txt', 'rb') as f:\n",
        "    word_idx = 0\n",
        "    for line in f:\n",
        "        values = line.decode('utf-8').split()\n",
        "        word = values[0]\n",
        "        vector = np.asarray(values[1:], dtype='float32')\n",
        "        embeddings_index[word] = word_idx\n",
        "        embeddings_vectors.append(vector)\n",
        "        word_idx = word_idx + 1\n",
        "\n",
        "inv_index = {v: k for k, v in embeddings_index.items()}\n",
        "print(\"found %d different words in the file\" % word_idx)"
      ],
      "execution_count": null,
      "outputs": []
    },
    {
      "cell_type": "code",
      "metadata": {
        "id": "lkD8ZTzn813m"
      },
      "source": [
        "# Stack all embeddings in a large numpy array\n",
        "glove_embeddings = np.vstack(embeddings_vectors)\n",
        "glove_norms = np.linalg.norm(glove_embeddings, axis=-1, keepdims=True)\n",
        "glove_embeddings_normed = glove_embeddings / glove_norms\n",
        "print(glove_embeddings.shape)"
      ],
      "execution_count": null,
      "outputs": []
    },
    {
      "cell_type": "code",
      "metadata": {
        "id": "x97WTZ-j813m"
      },
      "source": [
        "def get_emb(word):\n",
        "    idx = embeddings_index.get(word)\n",
        "    if idx is None:\n",
        "        return None\n",
        "    else:\n",
        "        return glove_embeddings[idx]\n",
        "\n",
        "    \n",
        "def get_normed_emb(word):\n",
        "    idx = embeddings_index.get(word)\n",
        "    if idx is None:\n",
        "        return None\n",
        "    else:\n",
        "        return glove_embeddings_normed[idx]"
      ],
      "execution_count": null,
      "outputs": []
    },
    {
      "cell_type": "code",
      "metadata": {
        "id": "1lMs4Vz-813m"
      },
      "source": [
        "get_emb(\"computer\")"
      ],
      "execution_count": null,
      "outputs": []
    },
    {
      "cell_type": "markdown",
      "metadata": {
        "id": "gTjrJG12813n"
      },
      "source": [
        "### Finding most similar words\n",
        "\n",
        "**Exercice**\n",
        "\n",
        "Build a function to find most similar words, given a word as query:\n",
        "- lookup the vector for the query word in the Glove index;\n",
        "- compute the cosine similarity between a word embedding and all other words;\n",
        "- display the top 10 most similar words.\n",
        "\n",
        "**Bonus**\n",
        "\n",
        "Change your function so that it takes multiple words as input (by averaging them)"
      ]
    },
    {
      "cell_type": "code",
      "metadata": {
        "id": "WR29l5r1813n"
      },
      "source": [
        "# %load solutions/most_similar.py"
      ],
      "execution_count": null,
      "outputs": []
    },
    {
      "cell_type": "code",
      "metadata": {
        "id": "cBY6B_Dt813n"
      },
      "source": [
        "most_similar(\"cpu\")"
      ],
      "execution_count": null,
      "outputs": []
    },
    {
      "cell_type": "code",
      "metadata": {
        "id": "OZY8YgFB813n"
      },
      "source": [
        "most_similar(\"pitt\")"
      ],
      "execution_count": null,
      "outputs": []
    },
    {
      "cell_type": "code",
      "metadata": {
        "id": "wDj389WH813n"
      },
      "source": [
        "most_similar(\"jolie\")"
      ],
      "execution_count": null,
      "outputs": []
    },
    {
      "cell_type": "markdown",
      "metadata": {
        "id": "BvPeEOeg813n"
      },
      "source": [
        "Predict the future better than tarot:"
      ]
    },
    {
      "cell_type": "code",
      "metadata": {
        "id": "Nu7yjHoz813o"
      },
      "source": [
        "np.dot(get_normed_emb('aniston'), get_normed_emb('pitt'))"
      ],
      "execution_count": null,
      "outputs": []
    },
    {
      "cell_type": "code",
      "metadata": {
        "id": "KGev_p0M813o"
      },
      "source": [
        "np.dot(get_normed_emb('jolie'), get_normed_emb('pitt'))"
      ],
      "execution_count": null,
      "outputs": []
    },
    {
      "cell_type": "code",
      "metadata": {
        "id": "qs_woPsv813o"
      },
      "source": [
        "most_similar(\"1\")"
      ],
      "execution_count": null,
      "outputs": []
    },
    {
      "cell_type": "code",
      "metadata": {
        "id": "UCnoBZvP813o"
      },
      "source": [
        "# bonus: yangtze is a chinese river\n",
        "most_similar([\"river\", \"chinese\"])"
      ],
      "execution_count": null,
      "outputs": []
    },
    {
      "cell_type": "markdown",
      "metadata": {
        "id": "XeryrP_U813o"
      },
      "source": [
        "### Displaying vectors with  t-SNE\n"
      ]
    },
    {
      "cell_type": "code",
      "metadata": {
        "id": "FwKfSnX8813p"
      },
      "source": [
        "from sklearn.manifold import TSNE\n",
        "\n",
        "word_emb_tsne = TSNE(perplexity=30).fit_transform(glove_embeddings_normed[:1000])"
      ],
      "execution_count": null,
      "outputs": []
    },
    {
      "cell_type": "code",
      "metadata": {
        "scrolled": false,
        "id": "owdF5zhA813p"
      },
      "source": [
        "%matplotlib inline\n",
        "import matplotlib.pyplot as plt\n",
        "\n",
        "plt.figure(figsize=(40, 40))\n",
        "axis = plt.gca()\n",
        "np.set_printoptions(suppress=True)\n",
        "plt.scatter(word_emb_tsne[:, 0], word_emb_tsne[:, 1], marker=\".\", s=1)\n",
        "\n",
        "for idx in range(1000):\n",
        "    plt.annotate(inv_index[idx],\n",
        "                 xy=(word_emb_tsne[idx, 0], word_emb_tsne[idx, 1]),\n",
        "                 xytext=(0, 0), textcoords='offset points')\n",
        "plt.savefig(\"tsne.png\")\n",
        "plt.show()"
      ],
      "execution_count": null,
      "outputs": []
    },
    {
      "cell_type": "markdown",
      "metadata": {
        "id": "D-safBJC813p"
      },
      "source": [
        "### Using pre-trained embeddings in our model\n",
        "\n",
        "We want to use these pre-trained embeddings for transfer learning. This process is rather similar than transfer learning in image recognition: the features learnt on words might help us bootstrap the learning process, and increase performance if we don't have enough training data.\n",
        "- We initialize embedding matrix from the model with Glove embeddings:\n",
        " - take all unique words from our BBC news dataset to build a vocabulary (`MAX_NB_WORDS = 20000`), and look up their Glove embedding \n",
        " - place the Glove embedding at the corresponding index in the matrix\n",
        " - if the word is not in the Glove vocabulary, we only place zeros in the matrix\n",
        "- We may fix these embeddings or fine-tune them"
      ]
    },
    {
      "cell_type": "code",
      "metadata": {
        "id": "1oU0SfeQ813p"
      },
      "source": [
        "EMBEDDING_DIM = 100\n",
        "\n",
        "# prepare embedding matrix\n",
        "nb_words_in_matrix = 0\n",
        "nb_words = min(MAX_NB_WORDS, len(word_index))\n",
        "embedding_matrix = np.zeros((nb_words, EMBEDDING_DIM))\n",
        "for word, i in word_index.items():\n",
        "    if i >= MAX_NB_WORDS:\n",
        "        continue\n",
        "    embedding_vector = get_emb(word)\n",
        "    if embedding_vector is not None:\n",
        "        # words not found in embedding index will be all-zeros.\n",
        "        embedding_matrix[i] = embedding_vector\n",
        "        nb_words_in_matrix = nb_words_in_matrix + 1\n",
        "        \n",
        "print(\"added %d words in the embedding matrix\" % nb_words_in_matrix)"
      ],
      "execution_count": null,
      "outputs": []
    },
    {
      "cell_type": "markdown",
      "metadata": {
        "id": "NLsrG557813q"
      },
      "source": [
        "Build a layer with pre-trained embeddings:"
      ]
    },
    {
      "cell_type": "code",
      "metadata": {
        "id": "6HZx7P0H813q"
      },
      "source": [
        "pretrained_embedding_layer = Embedding(\n",
        "    MAX_NB_WORDS, EMBEDDING_DIM,\n",
        "    weights=[embedding_matrix],\n",
        "    input_length=MAX_SEQUENCE_LENGTH,\n",
        ")"
      ],
      "execution_count": null,
      "outputs": []
    },
    {
      "cell_type": "markdown",
      "metadata": {
        "id": "uK2_ZuyJ813q"
      },
      "source": [
        "### A model with pre-trained Embeddings\n",
        "\n",
        "Average word embeddings pre-trained with Glove / Word2Vec usually works surprisingly well. However, when averaging more than `10-15` words, the resulting vector becomes too noisy and classification performance is degraded."
      ]
    },
    {
      "cell_type": "code",
      "metadata": {
        "id": "f19qbzNc813q"
      },
      "source": [
        "sequence_input = Input(shape=(MAX_SEQUENCE_LENGTH,), dtype='int32')\n",
        "embedded_sequences = pretrained_embedding_layer(sequence_input)\n",
        "average = GlobalAveragePooling1D()(embedded_sequences)\n",
        "predictions = Dense(N_CLASSES, activation='softmax')(average)\n",
        "\n",
        "model = Model(sequence_input, predictions)\n",
        "\n",
        "# We don't want to fine-tune embeddings\n",
        "model.layers[1].trainable = False\n",
        "\n",
        "model.compile(loss='categorical_crossentropy',\n",
        "              optimizer=optimizers.Adam(lr=0.01), metrics=['acc'])"
      ],
      "execution_count": null,
      "outputs": []
    },
    {
      "cell_type": "code",
      "metadata": {
        "id": "hNF8ByfH813r"
      },
      "source": [
        "model.fit(x_train, y_train, validation_split=0.1,\n",
        "          epochs=15, batch_size=32)"
      ],
      "execution_count": null,
      "outputs": []
    },
    {
      "cell_type": "markdown",
      "metadata": {
        "id": "2WM8l-2M813r"
      },
      "source": [
        "**Remarks:**\n",
        "\n",
        "- On this type of task, using pre-trained embeddings can degrade results as we train much less parameters and we average a large number pre-trained embeddings.\n",
        "\n",
        "- Pre-trained embeddings followed by global averaging prevents overfitting but can also cause some underfitting.\n",
        "\n",
        "- Using convolutions / LSTM should help counter the underfitting effect.\n",
        "\n",
        "- It is also advisable to treat separately pre-trained embeddings and words out of vocabulary.\n",
        "\n",
        "Pre-trained embeddings can be very useful when the training set is small and the individual text documents to classify are short: in this case there might be a single very important word in a test document that drives the label. If that word has never been seen in the training set but some synonyms were seen, the semantic similarity captured by the embedding will allow the model to generalized out of the restricted training set vocabulary.\n",
        "\n",
        "We did not observe this effect here because the document are long enough so that guessing the topic can be done redundantly. Shortening the documents to make the task more difficult could possibly highlight this benefit."
      ]
    },
    {
      "cell_type": "markdown",
      "metadata": {
        "id": "rO-ZjguT813r"
      },
      "source": [
        "### Reality check\n",
        "\n",
        "On small/medium datasets, simpler classification methods usually perform better, and are much more efficient to compute. Here are two resources to go further:\n",
        "- Naive Bayes approach, using scikit-learn http://scikit-learn.org/stable/datasets/twenty_newsgroups.html\n",
        "- Alec Radford (OpenAI) gave a very interesting presentation, showing that you need a VERY large dataset to have real gains from GRU/LSTM in text classification https://www.slideshare.net/odsc/alec-radfordodsc-presentation\n",
        "\n",
        "However, when looking at features, one can see that classification using simple methods isn't very robust, and won't generalize well to slightly different domains (e.g. forum posts => emails)\n",
        "\n",
        "Note: Implementation in Keras for text is very slow due to python overhead and lack of hashing techniques. The fastText implementation https://github.com/facebookresearch/fasttext is much, much faster."
      ]
    },
    {
      "cell_type": "markdown",
      "metadata": {
        "id": "BV2-xC0i813s"
      },
      "source": [
        "## Going further\n",
        "\n",
        "- Compare pre-trained embeddings vs specifically trained embeddings\n",
        "- Train your own wordvectors in any language using [gensim's word2vec](https://radimrehurek.com/gensim/models/word2vec.html)\n",
        "- Check [Keras Examples](https://github.com/fchollet/keras/tree/master/examples) on `imdb` sentiment analysis\n",
        "- Install fastText (Linux or macOS only, use the Linux VM if under Windows) and give it a try on the classification example in its repository.\n",
        "- Today, the **state-of-the-art text classification** can be achieved by **transfer learning from a language model** instead of using traditional word embeddings. See for instance: [ULMFit, Fine-tuned Language Models for Text Classification](https://arxiv.org/abs/1801.06146), [ELMO](https://allennlp.org/elmo), [GPT](https://blog.openai.com/language-unsupervised/), [BERT](https://arxiv.org/abs/1810.04805), [GPT-2](https://github.com/openai/gpt-2). The second notebook introduces how to train such a language model from unlabeled data."
      ]
    },
    {
      "cell_type": "code",
      "metadata": {
        "id": "af04gwhU813s"
      },
      "source": [
        ""
      ],
      "execution_count": null,
      "outputs": []
    }
  ]
}